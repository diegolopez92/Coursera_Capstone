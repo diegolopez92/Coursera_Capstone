{
 "cells": [
  {
   "cell_type": "markdown",
   "metadata": {},
   "source": [
    "<a href=\"https://www.coursera.org/professional-certificates/ibm-data-science?\"><img src=\"https://blog.coursera.org/wp-content/uploads/2018/08/Image.1534447201044.png\" align=\"center\"></a>"
   ]
  },
  {
   "cell_type": "markdown",
   "metadata": {},
   "source": [
    "<h1 align=\"center\">Capstone Project - The Battle of Neighborhoods - Diego López</h1>"
   ]
  },
  {
   "cell_type": "markdown",
   "metadata": {},
   "source": [
    "<h3>\n",
    "<ul>\n",
    "    <li>Author: Diego Ignacio López Orellana</li>\n",
    "    <li>Date: July 29th, 2020</li>\n",
    "</ul></h3>"
   ]
  },
  {
   "cell_type": "markdown",
   "metadata": {},
   "source": [
    "<hr>"
   ]
  },
  {
   "cell_type": "markdown",
   "metadata": {},
   "source": [
    "<div class=\"alert alert-success alertsuccess\" style=\"margin-top: 20px\">\n",
    "<h3><b>What does this Capstone project consists of?</b></h3>\n",
    "<br>\n",
    "<br>\n",
    "This project consists on leveraging the location data from Foursquare (a location data provider), to explore and compare neighborhoods or cities (that will be chosen during the project), and from the previous data:\n",
    "<br>\n",
    "    <ol>\n",
    "        <li>Come up with a problem.</li>\n",
    "        <li>Preprocess and select the data that will be used with the Machine Learning algorithm.</li>\n",
    "        <li>Choose a Machine Learning algorithm that will be useful and used to solve it.</li>\n",
    "        <li>Perform the modeling with Scikit-learn package.</li>\n",
    "        <li>Evaluate the model.</li>\n",
    "        <li>Implement the model and upload the final project to GitHub.</li>\n",
    "    </ol></div>"
   ]
  },
  {
   "cell_type": "markdown",
   "metadata": {},
   "source": [
    "<hr>"
   ]
  },
  {
   "cell_type": "markdown",
   "metadata": {},
   "source": [
    "<div class=\"alert alert-block alert-info\" style=\"margin-top: 20px\">\n",
    "<h3><b>Important note about this notebook</b></h3>\n",
    "<br>\n",
    "<br>\n",
    "This notebook will contain all the code for my Capstone Project, and its final version will be uploaded on my:\n",
    "    <h3><a href=\"https://github.com/diegolopez92/Coursera_Capstone\">Github's personal account - Author: Diego Ignacio López Orellana</a></h3></div>"
   ]
  },
  {
   "cell_type": "markdown",
   "metadata": {},
   "source": [
    "<h3 align=\"left\">Importing <b><em>Pandas</em></b> and <b><em>Numpy</em></b> libraries</h3>"
   ]
  },
  {
   "cell_type": "code",
   "execution_count": 2,
   "metadata": {},
   "outputs": [],
   "source": [
    "import pandas as pd\n",
    "import numpy as np"
   ]
  },
  {
   "cell_type": "markdown",
   "metadata": {},
   "source": [
    "<h3>Print <b><em>'Hello Capstone Project Course!'</em></b></h3>"
   ]
  },
  {
   "cell_type": "code",
   "execution_count": 3,
   "metadata": {},
   "outputs": [
    {
     "name": "stdout",
     "output_type": "stream",
     "text": [
      "Hello Capstone Project Course!\n"
     ]
    }
   ],
   "source": [
    "print('Hello Capstone Project Course!')"
   ]
  }
 ],
 "metadata": {
  "kernelspec": {
   "display_name": "Python 3",
   "language": "python",
   "name": "python3"
  },
  "language_info": {
   "codemirror_mode": {
    "name": "ipython",
    "version": 3
   },
   "file_extension": ".py",
   "mimetype": "text/x-python",
   "name": "python",
   "nbconvert_exporter": "python",
   "pygments_lexer": "ipython3",
   "version": "3.7.6"
  }
 },
 "nbformat": 4,
 "nbformat_minor": 4
}
